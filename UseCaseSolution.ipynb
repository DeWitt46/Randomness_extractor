{
 "cells": [
  {
   "cell_type": "markdown",
   "id": "4fe8bad7",
   "metadata": {},
   "source": [
    "# Use-Case solution"
   ]
  },
  {
   "cell_type": "code",
   "execution_count": 20,
   "id": "00d1df5c",
   "metadata": {},
   "outputs": [],
   "source": [
    "import warnings\n",
    "\n",
    "warnings.filterwarnings('ignore')"
   ]
  },
  {
   "cell_type": "code",
   "execution_count": 21,
   "id": "e4c6df37",
   "metadata": {},
   "outputs": [],
   "source": [
    "import pytket \n",
    "import tempfile\n",
    "import json\n",
    "import random\n",
    "import numpy as np\n",
    "import itertools\n",
    "import cryptomite\n",
    "import matplotlib.pyplot as plt\n",
    "\n",
    "from pytket import Circuit, OpType\n",
    "from pytket.circuit.display import render_circuit_jupyter\n",
    "from pytket.extensions.qiskit import AerStateBackend\n",
    "from pytket.extensions.qiskit import AerBackend"
   ]
  },
  {
   "cell_type": "code",
   "execution_count": 22,
   "id": "17eaa8ed",
   "metadata": {},
   "outputs": [],
   "source": [
    "def Had_all_circ(n): # Hadamard on each qubit\n",
    "    circ = Circuit(n)\n",
    "    \n",
    "    for i in range(n):\n",
    "        circ.H(i)\n",
    "    circ.measure_all()\n",
    "    \n",
    "    return circ\n",
    "\n",
    "\n",
    "\n",
    "def Had_CNOT_circ(n): # Hadamard and CNOT on 1st qubit to have uniform distr state\n",
    "    circ = Circuit(n)\n",
    "    \n",
    "    for i in range(n-1):\n",
    "        circ.H(0)\n",
    "        circ.CX(0, i+1)\n",
    "        \n",
    "    circ.H(0)\n",
    "        \n",
    "    circ.measure_all()\n",
    "    \n",
    "    return circ"
   ]
  },
  {
   "cell_type": "code",
   "execution_count": 23,
   "id": "b9233cf4",
   "metadata": {},
   "outputs": [],
   "source": [
    "def use_result(result):\n",
    "    \"\"\"\n",
    "    Takes result from circuit measurements and returnes states (in decimal and in binary), counts per state and\n",
    "    total counts (should be n_shots but who knows)\n",
    "    Everything is ordered.\n",
    "    Returns a dictionary\n",
    "    \"\"\"\n",
    "    counts = result.get_counts()\n",
    "    states = []\n",
    "    for state in counts.keys():\n",
    "        states.append(state)\n",
    "\n",
    "    counts_per_state = []\n",
    "    for state in counts.keys():\n",
    "        counts_per_state.append(counts[state])\n",
    "\n",
    "    x = []\n",
    "    for state in states:\n",
    "        partial_sum = 0\n",
    "        for i in range(len(state)):\n",
    "            partial_sum += state[i]*2**(n-i-1)    \n",
    "        x.append(partial_sum)\n",
    "\n",
    "    dictionary = {\"states_bin\":states, \"states_dec\":x, \"counts\":counts_per_state, \"total_counts\":sum(counts_per_state)}    \n",
    "    return dictionary"
   ]
  },
  {
   "cell_type": "code",
   "execution_count": 24,
   "id": "9374dddb",
   "metadata": {},
   "outputs": [],
   "source": [
    "def H_min(result):\n",
    "    \"\"\"\n",
    "    Takes result from circuit measurements and gives H_min\n",
    "    \"\"\"\n",
    "    a=use_result(result)\n",
    "    p_max = (max(a[\"counts\"])*1.)/n_shots\n",
    "    ind = a[\"counts\"].index(max(a[\"counts\"]))\n",
    "\n",
    "    H_min = -np.log2(p_max)\n",
    "\n",
    "    return H_min"
   ]
  },
  {
   "cell_type": "code",
   "execution_count": 25,
   "id": "649b7f7c",
   "metadata": {},
   "outputs": [],
   "source": [
    "def H_min_new(result):\n",
    "    \"\"\"\n",
    "    Takes result from circuit measurements and gives H_min.\n",
    "    Use this for the noisy circuit measurements\n",
    "    \"\"\"\n",
    "    N=np.sum(np.array(list(result.values())))\n",
    "    max_val = max(result, key=result.get)\n",
    "    H_min = -np.log2((1.*max(result.values()))/N)\n",
    "\n",
    "    return H_min,max_val"
   ]
  },
  {
   "cell_type": "code",
   "execution_count": 26,
   "id": "4128da1c",
   "metadata": {},
   "outputs": [],
   "source": [
    "def H_minTheoretical(P, n_qubit):\n",
    "    return -np.log2(P+(1-P)*2**(-n_qubit))"
   ]
  },
  {
   "cell_type": "code",
   "execution_count": 27,
   "id": "a9635214",
   "metadata": {},
   "outputs": [],
   "source": [
    "def run(circ, lam, n_shots, model=\"One lambda\"):\n",
    "    \"\"\"\n",
    "    Takes run parameters and circuits, then apply noise model and get counts list\n",
    "    You can plot It with plt.hist\n",
    "    models = Qubit indepent, One lambda\n",
    "    \"\"\"\n",
    "    shots=[]\n",
    "    for i in range(n_shots):\n",
    "        shots.append(execute_noisy(circ, lam, model))\n",
    "        \n",
    "    #shots can't be plotted so we make It a list of strings\n",
    "    \n",
    "    counts = []\n",
    "    for count in shots:\n",
    "        counts.append(tuple(count[0]))\n",
    "        \n",
    "    result = {x:counts.count(x) for x in counts}\n",
    "    \n",
    "    return result, counts"
   ]
  },
  {
   "cell_type": "markdown",
   "id": "361c62ef",
   "metadata": {},
   "source": [
    "### Task1: Min-entropy warm up"
   ]
  },
  {
   "cell_type": "markdown",
   "id": "5b10bf46",
   "metadata": {},
   "source": [
    "We take a simple set-up with a circuit implementing uniform distribution state. We measure It and from the statistics we calculate $H_{min}$:\n",
    "$H_{min}(p) = -\\log_2 [\\text{max}p(x)]$\n"
   ]
  },
  {
   "cell_type": "code",
   "execution_count": 28,
   "id": "da3a0452",
   "metadata": {},
   "outputs": [
    {
     "data": {
      "text/html": [
       "\n",
       "\n",
       "\n",
       "\n",
       "\n",
       "\n",
       "<iframe srcdoc=\"\n",
       "&lt;!DOCTYPE html&gt;\n",
       "&lt;html lang=&#34;en&#34;&gt;\n",
       "&lt;head&gt;\n",
       "    &lt;meta charset=&#34;UTF-8&#34;&gt;\n",
       "    &lt;!-- Download Vue 3--&gt;\n",
       "&lt;script type=&#34;application/javascript&#34; src=&#34;https://cdn.jsdelivr.net/npm/vue@3&#34;&gt;&lt;/script&gt;\n",
       "&lt;!-- Download Circuit Renderer with styles --&gt;\n",
       "&lt;script type=&#34;application/javascript&#34; src=&#34;https://unpkg.com/pytket-circuit-renderer@0.5/dist/pytket-circuit-renderer.umd.js&#34;&gt;&lt;/script&gt;\n",
       "&lt;link rel=&#34;stylesheet&#34; href=&#34;https://unpkg.com/pytket-circuit-renderer@0.5/dist/pytket-circuit-renderer.css&#34;&gt;\n",
       "&lt;/head&gt;\n",
       "&lt;body&gt;\n",
       "    &lt;div id=&#34;circuit-display-vue-container-636ff52a-97cc-409b-93ba-cef7f1a2cb84&#34; class=&#34;pytket-circuit-display-container&#34;&gt;\n",
       "        &lt;div style=&#34;display: none&#34;&gt;\n",
       "            &lt;div id=&#34;circuit-json-to-display&#34;&gt;{&#34;bits&#34;: [[&#34;c&#34;, [0]], [&#34;c&#34;, [1]], [&#34;c&#34;, [2]], [&#34;c&#34;, [3]]], &#34;commands&#34;: [{&#34;args&#34;: [[&#34;q&#34;, [0]]], &#34;op&#34;: {&#34;type&#34;: &#34;H&#34;}}, {&#34;args&#34;: [[&#34;q&#34;, [0]], [&#34;q&#34;, [1]]], &#34;op&#34;: {&#34;type&#34;: &#34;CX&#34;}}, {&#34;args&#34;: [[&#34;q&#34;, [1]], [&#34;c&#34;, [1]]], &#34;op&#34;: {&#34;type&#34;: &#34;Measure&#34;}}, {&#34;args&#34;: [[&#34;q&#34;, [0]]], &#34;op&#34;: {&#34;type&#34;: &#34;H&#34;}}, {&#34;args&#34;: [[&#34;q&#34;, [0]], [&#34;q&#34;, [2]]], &#34;op&#34;: {&#34;type&#34;: &#34;CX&#34;}}, {&#34;args&#34;: [[&#34;q&#34;, [2]], [&#34;c&#34;, [2]]], &#34;op&#34;: {&#34;type&#34;: &#34;Measure&#34;}}, {&#34;args&#34;: [[&#34;q&#34;, [0]]], &#34;op&#34;: {&#34;type&#34;: &#34;H&#34;}}, {&#34;args&#34;: [[&#34;q&#34;, [0]], [&#34;q&#34;, [3]]], &#34;op&#34;: {&#34;type&#34;: &#34;CX&#34;}}, {&#34;args&#34;: [[&#34;q&#34;, [3]], [&#34;c&#34;, [3]]], &#34;op&#34;: {&#34;type&#34;: &#34;Measure&#34;}}, {&#34;args&#34;: [[&#34;q&#34;, [0]]], &#34;op&#34;: {&#34;type&#34;: &#34;H&#34;}}, {&#34;args&#34;: [[&#34;q&#34;, [0]], [&#34;c&#34;, [0]]], &#34;op&#34;: {&#34;type&#34;: &#34;Measure&#34;}}], &#34;created_qubits&#34;: [], &#34;discarded_qubits&#34;: [], &#34;implicit_permutation&#34;: [[[&#34;q&#34;, [0]], [&#34;q&#34;, [0]]], [[&#34;q&#34;, [1]], [&#34;q&#34;, [1]]], [[&#34;q&#34;, [2]], [&#34;q&#34;, [2]]], [[&#34;q&#34;, [3]], [&#34;q&#34;, [3]]]], &#34;phase&#34;: &#34;0.0&#34;, &#34;qubits&#34;: [[&#34;q&#34;, [0]], [&#34;q&#34;, [1]], [&#34;q&#34;, [2]], [&#34;q&#34;, [3]]]}&lt;/div&gt;\n",
       "        &lt;/div&gt;\n",
       "        &lt;circuit-display-container :circuit-element-str=&#34;&#39;#circuit-json-to-display&#39;&#34;&gt;&lt;/circuit-display-container&gt;\n",
       "    &lt;/div&gt;\n",
       "    &lt;script type=&#34;application/javascript&#34;&gt;\n",
       "      const circuitRendererUid = &#34;636ff52a-97cc-409b-93ba-cef7f1a2cb84&#34;;\n",
       "\n",
       "      // Script to initialise the circuit renderer app\n",
       "\n",
       "const { createApp } = Vue;\n",
       "const circuitDisplayContainer = window[&#34;pytket-circuit-renderer&#34;].default;\n",
       "// Init variables to be shared between circuit display instances\n",
       "if (typeof window.pytketCircuitDisplays === &#34;undefined&#34;) {\n",
       "    window.pytketCircuitDisplays = {};\n",
       "}\n",
       "// Create the root Vue component\n",
       "const app = createApp({\n",
       "    delimiters: [&#39;[[#&#39;, &#39;#]]&#39;],\n",
       "    components: { circuitDisplayContainer },\n",
       "})\n",
       "app.config.unwrapInjectedRef = true;\n",
       "app.mount(&#34;#circuit-display-vue-container-&#34;+circuitRendererUid);\n",
       "window.pytketCircuitDisplays[circuitRendererUid] = app;\n",
       "    &lt;/script&gt;\n",
       "&lt;/body&gt;\n",
       "&lt;/html&gt;\n",
       "\"\n",
       "        width=\"100%\" height=\"200px\"\n",
       "        style=\"border: none; outline: none; resize: vertical; overflow: auto\"></iframe>\n",
       "\n"
      ],
      "text/plain": [
       "<IPython.core.display.HTML object>"
      ]
     },
     "metadata": {},
     "output_type": "display_data"
    }
   ],
   "source": [
    "n = 4\n",
    "my_circ = Had_CNOT_circ(n)\n",
    "\n",
    "render_circuit_jupyter(my_circ)"
   ]
  },
  {
   "cell_type": "code",
   "execution_count": 29,
   "id": "643a2ceb",
   "metadata": {},
   "outputs": [
    {
     "name": "stdout",
     "output_type": "stream",
     "text": [
      "Counter({(1, 0, 0, 0): 664, (1, 1, 1, 0): 662, (0, 1, 0, 1): 657, (0, 0, 0, 1): 646, (1, 1, 0, 0): 644, (0, 0, 0, 0): 643, (1, 0, 1, 1): 632, (1, 1, 0, 1): 624, (0, 1, 1, 0): 622, (1, 0, 1, 0): 612, (0, 0, 1, 0): 610, (0, 0, 1, 1): 610, (1, 1, 1, 1): 609, (1, 0, 0, 1): 602, (0, 1, 0, 0): 586, (0, 1, 1, 1): 577})\n"
     ]
    }
   ],
   "source": [
    "n_shots = 10000\n",
    "backend = AerBackend()\n",
    "result = backend.run_circuit(my_circ, n_shots=n_shots)\n",
    "counts = result.get_counts()\n",
    "\n",
    "print(counts)"
   ]
  },
  {
   "cell_type": "code",
   "execution_count": 30,
   "id": "d22d2843",
   "metadata": {},
   "outputs": [
    {
     "data": {
      "text/plain": [
       "{'states_bin': [(0, 0, 0, 0),\n",
       "  (0, 0, 0, 1),\n",
       "  (0, 0, 1, 0),\n",
       "  (0, 0, 1, 1),\n",
       "  (0, 1, 0, 0),\n",
       "  (0, 1, 0, 1),\n",
       "  (0, 1, 1, 0),\n",
       "  (0, 1, 1, 1),\n",
       "  (1, 0, 0, 0),\n",
       "  (1, 0, 0, 1),\n",
       "  (1, 0, 1, 0),\n",
       "  (1, 0, 1, 1),\n",
       "  (1, 1, 0, 0),\n",
       "  (1, 1, 0, 1),\n",
       "  (1, 1, 1, 0),\n",
       "  (1, 1, 1, 1)],\n",
       " 'states_dec': [0, 1, 2, 3, 4, 5, 6, 7, 8, 9, 10, 11, 12, 13, 14, 15],\n",
       " 'counts': [643,\n",
       "  646,\n",
       "  610,\n",
       "  610,\n",
       "  586,\n",
       "  657,\n",
       "  622,\n",
       "  577,\n",
       "  664,\n",
       "  602,\n",
       "  612,\n",
       "  632,\n",
       "  644,\n",
       "  624,\n",
       "  662,\n",
       "  609],\n",
       " 'total_counts': 10000}"
      ]
     },
     "execution_count": 30,
     "metadata": {},
     "output_type": "execute_result"
    }
   ],
   "source": [
    "# This function could be useful to manage with result type\n",
    "\n",
    "use_result(result)"
   ]
  },
  {
   "cell_type": "markdown",
   "id": "d38681ab",
   "metadata": {},
   "source": [
    "### Task 2: Noisy circuits"
   ]
  },
  {
   "cell_type": "markdown",
   "id": "a7a180d8",
   "metadata": {},
   "source": [
    "In practice, though, all elements of the circuit deviates from the theory in an unknow manner; It could be device errors, adversarial attacks and so on.\n",
    "To implement this, we add a \"black box\" right before the measurements, It depends on a parameter $\\lambda$ $\\in$ $[0,1]$.\n",
    "\n",
    "Mentors gave us a toy error model to use as \"black box\", we modified It to make It more general.\n",
    "\n",
    "![ERROR CIRCUIT](error_circuit_example.png)"
   ]
  },
  {
   "cell_type": "code",
   "execution_count": 31,
   "id": "338928c3",
   "metadata": {},
   "outputs": [],
   "source": [
    "# Toy error model - modified from GitHub file meas_noise\n",
    "\n",
    "\n",
    "gates = {'H':'H', 'X':'X', 'Y':'Y', 'Z':'Z', \"S\":\"Sdg\", \"T\":\"Tdg\", \"V\":\"Vdg\", \"Sdg\":\"S\", \"Tdg\":\"T\", \"Vdg\":\"V\", \"SX\":\"SXdg\", \"SXdg\":\"SX\"}\n",
    "param_gates = {\"Rx\":\"Rx\", \"Ry\":\"Ry\", \"Rz\":\"Rz\"}\n",
    "\n",
    "def last_gate(commands, number):\n",
    "    q_commands = list(filter(lambda element: (['q', [number]] in element['args']) and (not (element['op']['type'] == 'Measure')), commands))\n",
    "    if len(q_commands) == 0:\n",
    "        return None\n",
    "    t = q_commands[len(q_commands)-1]['op']['type']\n",
    "    if (t in gates) or (t in param_gates):\n",
    "        return q_commands[len(q_commands)-1]\n",
    "\n",
    "def new_gate(last):\n",
    "    number = last['args'][0][1][0]\n",
    "    t = last['op']['type']\n",
    "    if t in gates:\n",
    "        return {'args':[['q', [number]]], 'op':{'type':gates[t]}}\n",
    "    if t in param_gates:\n",
    "        param = last['op']['params']\n",
    "        return {'args':[['q', [number]]], 'op':{'params':['-' + param[0]], 'type':param_gates[t]}}\n",
    "\n",
    "def new_circuit(circ, qubits, lam, model=\"One lambda\"):\n",
    "    commands = circ.to_dict()['commands']\n",
    "    q_commands = list(filter(lambda element: not (element['op']['type'] == 'Measure'), commands))\n",
    "    if len(commands) - len(q_commands) != qubits:\n",
    "        return None\n",
    "    if qubits <= 0:\n",
    "        return None\n",
    "    for i in range(0,qubits):\n",
    "        if model == \"One lambda\":\n",
    "            last = last_gate(q_commands, i)\n",
    "        elif(model == \"Qubit independent\"):\n",
    "            if random.random() <= lam:\n",
    "                last = last_gate(q_commands, i)\n",
    "            else:\n",
    "                last = None\n",
    "        if last == None:\n",
    "            continue\n",
    "        q_commands.append(new_gate(last))\n",
    "    with tempfile.TemporaryFile('w+') as fp:\n",
    "        circ_dict = circ.to_dict()\n",
    "        circ_dict[\"commands\"] = q_commands\n",
    "        json.dump(circ_dict, fp)\n",
    "        fp.seek(0)\n",
    "        new_circ = Circuit.from_dict(json.load(fp))\n",
    "    new_circ.measure_all()\n",
    "#    render_circuit_jupyter(new_circ)\n",
    "    return new_circ\n",
    "\n",
    "def execute_noisy(circ, lam, model = \"One lambda\"):\n",
    "    backend = AerBackend()\n",
    "    \n",
    "    if model == \"One lambda\":\n",
    "        new_circ = new_circuit(circ, len(circ.to_dict()['qubits']), lam, model)\n",
    "        if new_circ is None: \n",
    "            return [\"Either you have no qubits or you haven't measured all qubits at the end\"]\n",
    "        if random.random() <= lam:\n",
    "            compiled_circ = backend.get_compiled_circuit(new_circ)\n",
    "        else:\n",
    "            compiled_circ = backend.get_compiled_circuit(circ)\n",
    "\n",
    "    elif(model == \"Qubit independent\"):\n",
    "        new_circ = new_circuit(circ, len(circ.to_dict()['qubits']), lam, model)\n",
    "        if new_circ is None: \n",
    "            return [\"Either you have no qubits or you haven't measured all qubits at the end\"]\n",
    "        compiled_circ = backend.get_compiled_circuit(new_circ)\n",
    "        \n",
    "    handle = backend.process_circuit(compiled_circ, n_shots=1)\n",
    "    return backend.get_result(handle).get_shots()\n",
    "\n",
    "def execute_theory(circ):\n",
    "    backend = AerBackend()\n",
    "    compiled_circ = backend.get_compiled_circuit(circ)\n",
    "    handle = backend.process_circuit(compiled_circ, n_shots=1)\n",
    "    return backend.get_result(handle).get_shots()"
   ]
  },
  {
   "cell_type": "code",
   "execution_count": 171,
   "id": "8611c343",
   "metadata": {
    "scrolled": true
   },
   "outputs": [
    {
     "data": {
      "text/html": [
       "\n",
       "\n",
       "\n",
       "\n",
       "\n",
       "\n",
       "<iframe srcdoc=\"\n",
       "&lt;!DOCTYPE html&gt;\n",
       "&lt;html lang=&#34;en&#34;&gt;\n",
       "&lt;head&gt;\n",
       "    &lt;meta charset=&#34;UTF-8&#34;&gt;\n",
       "    &lt;!-- Download Vue 3--&gt;\n",
       "&lt;script type=&#34;application/javascript&#34; src=&#34;https://cdn.jsdelivr.net/npm/vue@3&#34;&gt;&lt;/script&gt;\n",
       "&lt;!-- Download Circuit Renderer with styles --&gt;\n",
       "&lt;script type=&#34;application/javascript&#34; src=&#34;https://unpkg.com/pytket-circuit-renderer@0.5/dist/pytket-circuit-renderer.umd.js&#34;&gt;&lt;/script&gt;\n",
       "&lt;link rel=&#34;stylesheet&#34; href=&#34;https://unpkg.com/pytket-circuit-renderer@0.5/dist/pytket-circuit-renderer.css&#34;&gt;\n",
       "&lt;/head&gt;\n",
       "&lt;body&gt;\n",
       "    &lt;div id=&#34;circuit-display-vue-container-4313a00a-3051-4039-b0d1-f14ccea97c83&#34; class=&#34;pytket-circuit-display-container&#34;&gt;\n",
       "        &lt;div style=&#34;display: none&#34;&gt;\n",
       "            &lt;div id=&#34;circuit-json-to-display&#34;&gt;{&#34;bits&#34;: [[&#34;c&#34;, [0]], [&#34;c&#34;, [1]]], &#34;commands&#34;: [{&#34;args&#34;: [[&#34;q&#34;, [0]]], &#34;op&#34;: {&#34;type&#34;: &#34;H&#34;}}, {&#34;args&#34;: [[&#34;q&#34;, [0]], [&#34;q&#34;, [1]]], &#34;op&#34;: {&#34;type&#34;: &#34;CX&#34;}}, {&#34;args&#34;: [[&#34;q&#34;, [1]], [&#34;c&#34;, [1]]], &#34;op&#34;: {&#34;type&#34;: &#34;Measure&#34;}}, {&#34;args&#34;: [[&#34;q&#34;, [0]]], &#34;op&#34;: {&#34;type&#34;: &#34;H&#34;}}, {&#34;args&#34;: [[&#34;q&#34;, [0]], [&#34;c&#34;, [0]]], &#34;op&#34;: {&#34;type&#34;: &#34;Measure&#34;}}], &#34;created_qubits&#34;: [], &#34;discarded_qubits&#34;: [], &#34;implicit_permutation&#34;: [[[&#34;q&#34;, [0]], [&#34;q&#34;, [0]]], [[&#34;q&#34;, [1]], [&#34;q&#34;, [1]]]], &#34;phase&#34;: &#34;0.0&#34;, &#34;qubits&#34;: [[&#34;q&#34;, [0]], [&#34;q&#34;, [1]]]}&lt;/div&gt;\n",
       "        &lt;/div&gt;\n",
       "        &lt;circuit-display-container :circuit-element-str=&#34;&#39;#circuit-json-to-display&#39;&#34;&gt;&lt;/circuit-display-container&gt;\n",
       "    &lt;/div&gt;\n",
       "    &lt;script type=&#34;application/javascript&#34;&gt;\n",
       "      const circuitRendererUid = &#34;4313a00a-3051-4039-b0d1-f14ccea97c83&#34;;\n",
       "\n",
       "      // Script to initialise the circuit renderer app\n",
       "\n",
       "const { createApp } = Vue;\n",
       "const circuitDisplayContainer = window[&#34;pytket-circuit-renderer&#34;].default;\n",
       "// Init variables to be shared between circuit display instances\n",
       "if (typeof window.pytketCircuitDisplays === &#34;undefined&#34;) {\n",
       "    window.pytketCircuitDisplays = {};\n",
       "}\n",
       "// Create the root Vue component\n",
       "const app = createApp({\n",
       "    delimiters: [&#39;[[#&#39;, &#39;#]]&#39;],\n",
       "    components: { circuitDisplayContainer },\n",
       "})\n",
       "app.config.unwrapInjectedRef = true;\n",
       "app.mount(&#34;#circuit-display-vue-container-&#34;+circuitRendererUid);\n",
       "window.pytketCircuitDisplays[circuitRendererUid] = app;\n",
       "    &lt;/script&gt;\n",
       "&lt;/body&gt;\n",
       "&lt;/html&gt;\n",
       "\"\n",
       "        width=\"100%\" height=\"200px\"\n",
       "        style=\"border: none; outline: none; resize: vertical; overflow: auto\"></iframe>\n",
       "\n"
      ],
      "text/plain": [
       "<IPython.core.display.HTML object>"
      ]
     },
     "metadata": {},
     "output_type": "display_data"
    }
   ],
   "source": [
    "# Build the circuit\n",
    "\n",
    "n = 2 # n qubit\n",
    "lam = 0.5 # lambda\n",
    "\n",
    "circ = Had_CNOT_circ(n)\n",
    "\n",
    "\n",
    "render_circuit_jupyter(circ)"
   ]
  },
  {
   "cell_type": "code",
   "execution_count": 172,
   "id": "757b27ab",
   "metadata": {},
   "outputs": [],
   "source": [
    "n_shots = 100\n",
    "model = \"Qubit independent\"\n",
    "\n",
    "result, counts = run(circ, lam, n_shots, model)"
   ]
  },
  {
   "cell_type": "markdown",
   "id": "f13e205f",
   "metadata": {},
   "source": [
    "### Task 3: Predictive power and $H_{min}$ study"
   ]
  },
  {
   "cell_type": "code",
   "execution_count": 173,
   "id": "7c3d2172",
   "metadata": {},
   "outputs": [],
   "source": [
    "# Now take some lambda values and esteem worst-case scenario H_min\n",
    "# Remember that It also depends from both the state and the circuit\n",
    "\n",
    "data = []\n",
    "#lambda_set = [0., 0.2, 0.5, 1]\n",
    "lambda_set = np.linspace(0., 1., 10)\n",
    "\n",
    "for lam in lambda_set:\n",
    "    data.append(H_min_new(run(circ, lam, n_shots)[0])[0])\n",
    "    \n",
    "dataset = {}\n",
    "for i in range(len(lambda_set)):\n",
    "    dataset[str(lambda_set[i])] = data[i]"
   ]
  },
  {
   "cell_type": "code",
   "execution_count": 174,
   "id": "8ccfa92f",
   "metadata": {},
   "outputs": [
    {
     "data": {
      "image/png": "[encoded data removed]",
      "text/plain": [
       "<Figure size 750x550 with 1 Axes>"
      ]
     },
     "metadata": {},
     "output_type": "display_data"
    }
   ],
   "source": [
    "#Plot\n",
    "\n",
    "marker = [\"x\", \"o\", \"P\", \"^\"]\n",
    "s = [130, 100, 200, 200]\n",
    "\n",
    "lstyles = [\"dashed\",\n",
    "          \"dotted\",\n",
    "          \"dashdot\",\n",
    "          \"solid\",\n",
    "          ]\n",
    "\n",
    "lws = [1.7,\n",
    "      3.2,\n",
    "      2.2,\n",
    "      1.7,\n",
    "      ]\n",
    "\n",
    "# len(color) must be \\geq len(gy_list) \n",
    "color = [(float(0)/255, float(0)/255, float(255)/255), #blue\n",
    "        (float(213)/255, float(94)/255,float(0)/255), #orange\n",
    "        (float(255)/255, float(0)/255, float(0)/255), #red\n",
    "        (float(0)/255, float(0)/255, float(0)/255), #black\n",
    "        (float(0)/255, float(255)/255, float(0)/255), #green \n",
    "        ] \n",
    "\n",
    "SMALL_SIZE = 15\n",
    "MEDIUM_SIZE = 20\n",
    "BIGGER_SIZE = 25\n",
    "\n",
    "plt.rc('font', size=SMALL_SIZE, weight=\"normal\", family=\"sans-serif\")          # controls default text sizes\n",
    "plt.rc('axes', titlesize=BIGGER_SIZE)     # fontsize of the axes title\n",
    "plt.rc('axes', labelsize=BIGGER_SIZE)    # fontsize of the x and y labels\n",
    "plt.rc('xtick', labelsize=MEDIUM_SIZE)    # fontsize of the tick labels\n",
    "plt.rc('ytick', labelsize=MEDIUM_SIZE)    # fontsize of the tick labels\n",
    "plt.rc('legend', fontsize=SMALL_SIZE)    # legend fontsize\n",
    "plt.rc('figure', titlesize=BIGGER_SIZE)  # fontsize of the figure title\n",
    "plt.rcParams[\"figure.figsize\"] = [7.50, 5.50]\n",
    "plt.rcParams[\"figure.autolayout\"] = True\n",
    "plt.rcParams[\"figure.figsize\"] = [7.50, 5.50]\n",
    "plt.rcParams[\"figure.autolayout\"] = True\n",
    "\n",
    "\n",
    "    \n",
    "gylabel= \"$\\gamma$ = {gy:.1f}\"\n",
    "\n",
    "#plt.title(\"Excited states energy spectrum\")\n",
    "x1 = lambda_set\n",
    "x2 = np.linspace(0., 1., 100)\n",
    "\n",
    "y1 = dataset.values()\n",
    "\n",
    "y2 = []\n",
    "for i in range(len(x2)):\n",
    "    y2.append(H_minTheoretical(x2[i], n))\n",
    "    \n",
    "plt.plot(x1, y1, color=color[0], linestyle=\"solid\", linewidth = lws[3], alpha=0.7)\n",
    "plt.plot(x2, y2, color=color[1], linestyle=\"solid\", linewidth = lws[3], alpha=0.7)\n",
    "\n",
    "#plt.axvline(crosspoints[i],color=color[0], linewidth = lws[0], linestyle=lstyles[0])\n",
    "\n",
    "\n",
    "#plt.scatter(B_VQD,E_1,color=color[0],edgecolor=\"white\",marker=marker[0],s=s[0], label='GS')\n",
    "\n",
    "plt.ylabel('$H_{min}$')\n",
    "plt.xlabel('$\\lambda$')\n",
    "\n",
    "\n",
    "# Line of codes to avoid repeating labels in legend\n",
    "handles, labels = plt.gca().get_legend_handles_labels()\n",
    "by_label = dict(zip(labels, handles))\n",
    "plt.legend(by_label.values(), by_label.keys())\n",
    "\n",
    "#Arrows\n",
    "#plt.annotate(text=\"(I)\", xy=(0.2,-3), xytext=(0.05, -3.05), arrowprops={\"arrowstyle\":\"->\", \"color\":color[0], \"lw\":1.7})\n",
    "\n",
    "plt.show()"
   ]
  },
  {
   "cell_type": "markdown",
   "id": "8deb0ff7",
   "metadata": {},
   "source": [
    "# To do:\n",
    "\n",
    "- Take $\\lambda$ as It's a random variable with a certain probability distribution and have a look at $H_{min}$\n",
    "\n",
    "- Change preparation circuit"
   ]
  },
  {
   "cell_type": "markdown",
   "id": "1240aee2",
   "metadata": {},
   "source": [
    "## Interesting Part 1: Certification"
   ]
  },
  {
   "cell_type": "code",
   "execution_count": 37,
   "id": "a2e4bd30",
   "metadata": {},
   "outputs": [],
   "source": [
    "def Bell_State_circ() :\n",
    "    circ = Circuit(2)\n",
    "    circ.H(0)\n",
    "    circ.CX(0,1)\n",
    "    \n",
    "    return circ"
   ]
  },
  {
   "cell_type": "code",
   "execution_count": 38,
   "id": "a69520c8",
   "metadata": {},
   "outputs": [],
   "source": [
    "def Bell_State_param_circ(theta):\n",
    "    circ = Circuit(2)\n",
    "    circ.H(0)\n",
    "    circ.CX(0,1)\n",
    "    circ.Ry(theta,0)\n",
    "    return circ "
   ]
  },
  {
   "cell_type": "code",
   "execution_count": 39,
   "id": "44e28e50",
   "metadata": {},
   "outputs": [],
   "source": [
    "def binary_equal(a, b):\n",
    "    if a == b:\n",
    "        result = 0\n",
    "    else:\n",
    "        result = 1\n",
    "    return result"
   ]
  },
  {
   "cell_type": "code",
   "execution_count": 299,
   "id": "bed6a8e7",
   "metadata": {},
   "outputs": [],
   "source": [
    "def add_rnd_measure(circ, str1, str2):\n",
    "    new_circ = Circuit(2)\n",
    "    if str1 == 'X':\n",
    "        new_circ.H(0)\n",
    "    elif str1 != 'Z':\n",
    "        print(\"WRONG BASE FOR QUBIT 1\")\n",
    "    if str2 == 'X':\n",
    "        new_circ.H(1)\n",
    "    elif str2 != 'Z':\n",
    "        print(\"WRONG BASE FOR QUBIT 2\")\n",
    "    circ.append(new_circ)\n",
    "    circ.measure_all()\n",
    "    \n",
    "    return circ\n",
    "\n",
    "def execute_certificate(M, n_shots, theta):\n",
    "    backend = AerBackend()\n",
    "    xy_list = []\n",
    "    \n",
    "    shots=[]\n",
    "    for i in range(n_shots):\n",
    "        circ = Bell_State_circ()\n",
    "        circ.Ry(theta,0)\n",
    "        x = random.getrandbits(1)\n",
    "        y = random.getrandbits(1)\n",
    "            \n",
    "        xy_list.append((x, y))\n",
    "        add_rnd_measure(circ, M[0][x], M[1][y])\n",
    "        \n",
    "        compiled_circ = backend.get_compiled_circuit(circ)\n",
    "        handle = backend.process_circuit(compiled_circ, n_shots=1)\n",
    "        shots.append(backend.get_result(handle).get_shots())\n",
    "            \n",
    "    counts = []\n",
    "    for count in shots:\n",
    "        counts.append(tuple(count[0]))\n",
    "\n",
    "    result = {x:counts.count(x) for x in counts}\n",
    "\n",
    "    return result, counts, xy_list"
   ]
  },
  {
   "cell_type": "code",
   "execution_count": 51,
   "id": "b032bc94",
   "metadata": {},
   "outputs": [],
   "source": [
    "def getIndex(x, y):\n",
    "    if (x,y) == (0,0):\n",
    "        index = 0\n",
    "    elif (x,y) == (0,1):\n",
    "        index = 1\n",
    "    elif (x,y) == (1,0):\n",
    "        index = 2\n",
    "    elif (x,y) == (1,1):\n",
    "        index = 3\n",
    "        \n",
    "    return index"
   ]
  },
  {
   "cell_type": "code",
   "execution_count": 73,
   "id": "9e6811f5",
   "metadata": {},
   "outputs": [],
   "source": [
    "def Fill_Statistics(counts, xy_list):\n",
    "    \"\"\"\n",
    "    Takes counts and list of xy from a certificate-like circuit run\n",
    "    and fill the matrix N and array P. Then compute I\n",
    "    N[0][0] stands for the counts of a=0,b=0,x=0,y=0\n",
    "    N[2][0] stands for the counts of a=1,b=0,x=0,y=0\n",
    "    and so on\n",
    "    P takes the probabilities of all the a=b or a!=b for fixed x,y\n",
    "    P[0][0] = N.(sum on first row) = P(a=b|00)\n",
    "    P[0][1] = N.(sum on second row)= P(a!=b|00)\n",
    "    and so on\n",
    "    \"\"\"\n",
    "    N = np.zeros([4,4])\n",
    "    \n",
    "\n",
    "    for ind in range(len(counts)):\n",
    "        N[getIndex(xy_list[ind][0], xy_list[ind][1])][getIndex(counts[ind][0], counts[ind][1])] += 1\n",
    "    \n",
    "    P=np.zeros([4,2])\n",
    "    for i in range(len(P[:])):\n",
    "        P[i][0]=(N[i][0] + N[i][3])/sum(N[i][:])\n",
    "        P[i][1]=(N[i][1] + N[i][2])/sum(N[i][:])\n",
    "        \n",
    "    I = (P[0][0] - P[0][1])\n",
    "    I += (P[1][0] - P[1][1])\n",
    "    I -= (P[2][0] - P[2][1])\n",
    "    I += (P[3][0] - P[3][1])\n",
    "    return N, P, I"
   ]
  },
  {
   "cell_type": "code",
   "execution_count": 94,
   "id": "7c0d1e4c",
   "metadata": {},
   "outputs": [
    {
     "name": "stdout",
     "output_type": "stream",
     "text": [
      "theta =  0.0\n",
      "0\n",
      "100\n",
      "200\n",
      "I =  2.1348374966424926\n",
      "theta =  0.10526315789473684\n",
      "0\n",
      "100\n",
      "200\n",
      "I =  2.6044011544011543\n",
      "theta =  0.21052631578947367\n",
      "0\n",
      "100\n",
      "200\n",
      "I =  2.805795643425772\n",
      "theta =  0.3157894736842105\n",
      "0\n",
      "100\n",
      "200\n",
      "I =  2.6668997668997667\n",
      "theta =  0.42105263157894735\n",
      "0\n",
      "100\n",
      "200\n",
      "I =  2.662522153300842\n",
      "theta =  0.5263157894736842\n",
      "0\n",
      "100\n",
      "200\n",
      "I =  1.9614529280948851\n",
      "theta =  0.631578947368421\n",
      "0\n",
      "100\n",
      "200\n",
      "I =  0.8582642089093699\n",
      "theta =  0.7368421052631579\n",
      "0\n",
      "100\n",
      "200\n",
      "I =  0.009414224669791027\n",
      "theta =  0.8421052631578947\n",
      "0\n",
      "100\n",
      "200\n",
      "I =  -1.0439807915217751\n",
      "theta =  0.9473684210526315\n",
      "0\n",
      "100\n",
      "200\n",
      "I =  -1.5108508582400584\n",
      "theta =  1.0526315789473684\n",
      "0\n",
      "100\n",
      "200\n",
      "I =  -2.3413702554308906\n",
      "theta =  1.1578947368421053\n",
      "0\n",
      "100\n",
      "200\n",
      "I =  -2.912622720897616\n",
      "theta =  1.263157894736842\n",
      "0\n",
      "100\n",
      "200\n",
      "I =  -2.9948277234025626\n",
      "theta =  1.3684210526315788\n",
      "0\n",
      "100\n",
      "200\n",
      "I =  -2.7448028673835125\n",
      "theta =  1.4736842105263157\n",
      "0\n",
      "100\n",
      "200\n",
      "I =  -2.0226784435426115\n",
      "theta =  1.5789473684210527\n",
      "0\n",
      "100\n",
      "200\n",
      "I =  -1.2853754940711464\n",
      "theta =  1.6842105263157894\n",
      "0\n",
      "100\n",
      "200\n",
      "I =  -0.6279816054339027\n",
      "theta =  1.789473684210526\n",
      "0\n",
      "100\n",
      "200\n",
      "I =  0.4422411016713865\n",
      "theta =  1.894736842105263\n",
      "0\n",
      "100\n",
      "200\n",
      "I =  1.354177897574124\n",
      "theta =  2.0\n",
      "0\n",
      "100\n",
      "200\n",
      "I =  1.9292586304470853\n"
     ]
    }
   ],
   "source": [
    "M = [['X', 'Z'], ['X', 'Z']]\n",
    "n_shots = 256\n",
    "theta_list = np.linspace(0.,2.,20)\n",
    "\n",
    "data = {\"N\": [], \"P\": [], \"I\":[], \"result\":[], \"counts\":[], \"xy_list\":[]}\n",
    "for theta in theta_list:\n",
    "    print(\"theta = \", theta)\n",
    "    result, counts, xy_list = execute_certificate(M, n_shots, theta)\n",
    "    N, P, I = Fill_Statistics(counts, xy_list)\n",
    "    data[\"N\"].append(N)\n",
    "    data[\"P\"].append(P)\n",
    "    data[\"I\"].append(I)\n",
    "    data[\"result\"].append(result)\n",
    "    data[\"counts\"].append(counts)\n",
    "    data[\"xy_list\"].append(xy_list)\n",
    "    print(\"I = \", I)"
   ]
  },
  {
   "cell_type": "code",
   "execution_count": 95,
   "id": "75a9b2f1",
   "metadata": {},
   "outputs": [
    {
     "data": {
      "image/png": "[encoded data removed]",
      "text/plain": [
       "<Figure size 750x550 with 1 Axes>"
      ]
     },
     "metadata": {},
     "output_type": "display_data"
    }
   ],
   "source": [
    "#Plot\n",
    "\n",
    "marker = [\"x\", \"o\", \"P\", \"^\"]\n",
    "s = [130, 100, 200, 200]\n",
    "\n",
    "lstyles = [\"dashed\",\n",
    "          \"dotted\",\n",
    "          \"dashdot\",\n",
    "          \"solid\",\n",
    "          ]\n",
    "\n",
    "lws = [1.7,\n",
    "      3.2,\n",
    "      2.2,\n",
    "      1.7,\n",
    "      ]\n",
    "\n",
    "# len(color) must be \\geq len(gy_list) \n",
    "color = [(float(0)/255, float(0)/255, float(255)/255), #blue\n",
    "        (float(213)/255, float(94)/255,float(0)/255), #orange\n",
    "        (float(255)/255, float(0)/255, float(0)/255), #red\n",
    "        (float(0)/255, float(0)/255, float(0)/255), #black\n",
    "        (float(0)/255, float(255)/255, float(0)/255), #green \n",
    "        ] \n",
    "\n",
    "SMALL_SIZE = 15\n",
    "MEDIUM_SIZE = 20\n",
    "BIGGER_SIZE = 25\n",
    "\n",
    "plt.rc('font', size=SMALL_SIZE, weight=\"normal\", family=\"sans-serif\")          # controls default text sizes\n",
    "plt.rc('axes', titlesize=BIGGER_SIZE)     # fontsize of the axes title\n",
    "plt.rc('axes', labelsize=BIGGER_SIZE)    # fontsize of the x and y labels\n",
    "plt.rc('xtick', labelsize=MEDIUM_SIZE)    # fontsize of the tick labels\n",
    "plt.rc('ytick', labelsize=MEDIUM_SIZE)    # fontsize of the tick labels\n",
    "plt.rc('legend', fontsize=SMALL_SIZE)    # legend fontsize\n",
    "plt.rc('figure', titlesize=BIGGER_SIZE)  # fontsize of the figure title\n",
    "plt.rcParams[\"figure.figsize\"] = [7.50, 5.50]\n",
    "plt.rcParams[\"figure.autolayout\"] = True\n",
    "plt.rcParams[\"figure.figsize\"] = [7.50, 5.50]\n",
    "plt.rcParams[\"figure.autolayout\"] = True\n",
    "\n",
    "\n",
    "    \n",
    "gylabel= \"$\\gamma$ = {gy:.1f}\"\n",
    "\n",
    "#plt.title(\"Excited states energy spectrum\")\n",
    "x = theta_list\n",
    "\n",
    "y = data[\"I\"]\n",
    "\n",
    "y1 = []\n",
    "y2 = []\n",
    "y3 = []\n",
    "y4 = []\n",
    "for i in range(len(x)):\n",
    "    y1.append(2.)\n",
    "    y2.append(-2.)\n",
    "    y3.append(2*np.sqrt(2))\n",
    "    y4.append(-2*np.sqrt(2))\n",
    "    \n",
    "plt.plot(x, y, color=color[0], linestyle=\"solid\", linewidth = lws[2], alpha=0.7)\n",
    "plt.plot(x, y1, color=color[1], linestyle=\"dotted\", linewidth = lws[1], alpha=0.7, label=\"Classic bound\")\n",
    "plt.plot(x, y2, color=color[1], linestyle=\"dotted\", linewidth = lws[1], alpha=0.7)\n",
    "plt.plot(x, y3, color=color[2], linestyle=\"dotted\", linewidth = lws[1], alpha=0.7, label=\"Quantum bound\")\n",
    "plt.plot(x, y4, color=color[2], linestyle=\"dotted\", linewidth = lws[1], alpha=0.7)\n",
    "#plt.axvline(crosspoints[i],color=color[0], linewidth = lws[0], linestyle=lstyles[0])\n",
    "\n",
    "\n",
    "#plt.scatter(B_VQD,E_1,color=color[0],edgecolor=\"white\",marker=marker[0],s=s[0], label='GS')\n",
    "\n",
    "plt.ylabel(r\"$I(\\theta)$\")\n",
    "plt.xlabel(r\"$\\theta$\")\n",
    "\n",
    "\n",
    "# Line of codes to avoid repeating labels in legend\n",
    "handles, labels = plt.gca().get_legend_handles_labels()\n",
    "by_label = dict(zip(labels, handles))\n",
    "plt.legend(by_label.values(), by_label.keys())\n",
    "\n",
    "#Arrows\n",
    "#plt.annotate(text=\"(I)\", xy=(0.2,-3), xytext=(0.05, -3.05), arrowprops={\"arrowstyle\":\"->\", \"color\":color[0], \"lw\":1.7})\n",
    "\n",
    "plt.show()"
   ]
  },
  {
   "cell_type": "code",
   "execution_count": 96,
   "id": "629e66f4",
   "metadata": {},
   "outputs": [
    {
     "name": "stdout",
     "output_type": "stream",
     "text": [
      "0\n",
      "100\n",
      "200\n",
      "300\n",
      "400\n",
      "500\n",
      "600\n",
      "700\n",
      "800\n",
      "900\n"
     ]
    }
   ],
   "source": [
    "M = [['X', 'Z'], ['X', 'Z']]\n",
    "n_shots = 1000\n",
    "theta = 0.29 # Theta for which I is max\n",
    "\n",
    "result, counts, xy_list = execute_certificate(M, n_shots, theta)"
   ]
  },
  {
   "cell_type": "code",
   "execution_count": 97,
   "id": "697d56d2",
   "metadata": {},
   "outputs": [],
   "source": [
    "N, P, I = Fill_Statistics(counts, xy_list)"
   ]
  },
  {
   "cell_type": "code",
   "execution_count": 98,
   "id": "459ee16c",
   "metadata": {},
   "outputs": [
    {
     "name": "stdout",
     "output_type": "stream",
     "text": [
      "N = [[ 95.  15.  30. 103.]\n",
      " [114.  13.  13. 115.]\n",
      " [ 12. 112. 121.  13.]\n",
      " [ 94.  17.  22. 111.]]\n",
      "P =  [[0.81481481 0.18518519]\n",
      " [0.89803922 0.10196078]\n",
      " [0.09689922 0.90310078]\n",
      " [0.84016393 0.15983607]]\n",
      "top = 2.8284271247461903\n",
      "ours = 2.9122374802422346\n"
     ]
    }
   ],
   "source": [
    "print(\"N =\", N)\n",
    "print(\"P = \", P)\n",
    "print(\"top =\", 2*np.sqrt(2))\n",
    "print(\"ours =\", I)"
   ]
  },
  {
   "cell_type": "markdown",
   "id": "f60da3ac",
   "metadata": {},
   "source": [
    "# Interesting Part 2: Randomness extraction"
   ]
  },
  {
   "cell_type": "markdown",
   "id": "df4118cd",
   "metadata": {},
   "source": [
    "Let's see If It works by putting random strings as input1 and input2"
   ]
  },
  {
   "cell_type": "code",
   "execution_count": 324,
   "id": "6fddefdc",
   "metadata": {},
   "outputs": [],
   "source": [
    "def extractor(seeds, raws):\n",
    "    # len_out = m\n",
    "    # len_seed = n >= m\n",
    "    # len_raws = n + m -1\n",
    "    n_run = len(raws)\n",
    "    len_raws = len(raws[0])\n",
    "    len_seed = len(seeds[0])\n",
    "    len_out = len_raws + 1 - len_seed\n",
    "    \n",
    "    outs = []\n",
    "    \n",
    "    toeplitz = cryptomite.Toeplitz(len_seed, len_out)\n",
    "    for i in range(len(seeds)):\n",
    "        outs.append(tuple(toeplitz.extract(seeds[i], raws[i])))\n",
    "        \n",
    "    return outs"
   ]
  },
  {
   "cell_type": "code",
   "execution_count": 289,
   "id": "ba3af9ce",
   "metadata": {},
   "outputs": [],
   "source": [
    "# Build raw inputs and seeds\n",
    "\n",
    "H_bound = 1.\n",
    "n_run = 3\n",
    "n_shots = 5\n",
    "len_seed = n_shots*2 - int(2*H_bound) + 1\n",
    "\n",
    "raws = []\n",
    "for row in range(n_run):\n",
    "    partial_raw = []\n",
    "    for column in range(2*n_shots):\n",
    "        partial_raw.append(random.getrandbits(1))\n",
    "    raws.append(partial_raw)\n",
    "\n",
    "seeds = []\n",
    "for row in range(n_run):\n",
    "    partial_seed = []\n",
    "    for column in range(len_seed):\n",
    "        partial_seed.append(random.getrandbits(1))\n",
    "    seeds.append(partial_seed)"
   ]
  },
  {
   "cell_type": "code",
   "execution_count": 290,
   "id": "5d5af5d2",
   "metadata": {},
   "outputs": [],
   "source": [
    "outs = extractor(seeds, raws)"
   ]
  },
  {
   "cell_type": "code",
   "execution_count": 291,
   "id": "f37b59ce",
   "metadata": {},
   "outputs": [
    {
     "data": {
      "text/plain": [
       "[(0, 0), (1, 0), (0, 0)]"
      ]
     },
     "execution_count": 291,
     "metadata": {},
     "output_type": "execute_result"
    }
   ],
   "source": [
    "outs "
   ]
  },
  {
   "cell_type": "markdown",
   "id": "ebecc0aa",
   "metadata": {},
   "source": [
    "### Tries with H-CNOT circuit which sends |0> into |uniform>, but with the toy noise model (lambda gets changed every run)"
   ]
  },
  {
   "cell_type": "code",
   "execution_count": 279,
   "id": "28e243fe",
   "metadata": {},
   "outputs": [],
   "source": [
    "def run_diff_lambdas(circ, n_run, n_shots, model=\"One lambda\"):\n",
    "    run_lambdas = []\n",
    "    lam = []\n",
    "    H_mins = []\n",
    "    \n",
    "    for i in range (n_run):\n",
    "        lam.append(random.uniform(0,1))\n",
    "        a, b = run(circ, lam[i], n_shots, model)\n",
    "        bis = list(itertools.chain(*b))\n",
    "        run_lambdas.append(bis)\n",
    "        H_mins.append(H_min_new(a)[0])\n",
    "        \n",
    "    return(run_lambdas,lam,H_mins)"
   ]
  },
  {
   "cell_type": "code",
   "execution_count": 280,
   "id": "40a52cee",
   "metadata": {},
   "outputs": [],
   "source": [
    "n = 2\n",
    "circ = Had_CNOT_circ(n)"
   ]
  },
  {
   "cell_type": "code",
   "execution_count": 281,
   "id": "2970b3bf",
   "metadata": {},
   "outputs": [],
   "source": [
    "n_run = 100\n",
    "n_shots = 5 # little shots\n",
    "\n",
    "raws, lam, H_mins = run_diff_lambdas(circ, n_run, n_shots)"
   ]
  },
  {
   "cell_type": "code",
   "execution_count": 283,
   "id": "f0321ec0",
   "metadata": {},
   "outputs": [],
   "source": [
    "H_bound = 1.3 # To compute or to look in previous sections\n",
    "len_seed = n_shots*n - n*int(H_bound) + 1\n",
    "\n",
    "seeds = []\n",
    "for row in range(n_run):\n",
    "    partial_seed = []\n",
    "    for column in range(len_seed):\n",
    "        partial_seed.append(random.getrandbits(1))\n",
    "    seeds.append(partial_seed)"
   ]
  },
  {
   "cell_type": "code",
   "execution_count": 284,
   "id": "192e4f1a",
   "metadata": {},
   "outputs": [],
   "source": [
    "outs = extractor(seeds, raws)"
   ]
  },
  {
   "cell_type": "code",
   "execution_count": 285,
   "id": "4d5cfe6f",
   "metadata": {},
   "outputs": [],
   "source": [
    "def H_from_extractor(outs):\n",
    "    \n",
    "    List = Counter(outs)\n",
    "    H = -np.log2((1*List.most_common(1)[0][1])/len(outs))\n",
    "    return H"
   ]
  },
  {
   "cell_type": "code",
   "execution_count": 287,
   "id": "337edfd4",
   "metadata": {},
   "outputs": [
    {
     "name": "stdout",
     "output_type": "stream",
     "text": [
      "H_min from extractor =  1.7858751946471527\n",
      "H_min from circ runs =  0.8315045327011527\n",
      "H_min maximum possible =  2\n"
     ]
    }
   ],
   "source": [
    "print(\"H_min from extractor = \", H_from_extractor(outs))\n",
    "print(\"H_min from circ runs = \", np.average(H_mins))\n",
    "print(\"H_min maximum possible = \", n)"
   ]
  },
  {
   "cell_type": "markdown",
   "id": "f6cb1288",
   "metadata": {},
   "source": [
    "### Tries with certificate results"
   ]
  },
  {
   "cell_type": "markdown",
   "id": "33517461",
   "metadata": {},
   "source": [
    "Now implement a true instance of the certificate.\n",
    "- An experiment is made of some runs of few shots circuit. Each run has the theta max.\n",
    "- Check If the experiment has a good I.\n",
    "- If It's the case, extract a \"truly random\" bit for each run.\n",
    "- Do a lot of experiments and have a look at the H_min"
   ]
  },
  {
   "cell_type": "code",
   "execution_count": 340,
   "id": "158a2923",
   "metadata": {},
   "outputs": [],
   "source": [
    "def update_counts(r1, r2):\n",
    "    r3 = {}\n",
    "    for key in r1.keys():\n",
    "        r3[key] = r1[key]\n",
    "        if key in r2.keys():\n",
    "            r3[key] += r2[key]\n",
    "        \n",
    "    return r3"
   ]
  },
  {
   "cell_type": "code",
   "execution_count": 348,
   "id": "c92a92b7",
   "metadata": {},
   "outputs": [],
   "source": [
    "def certificate_experiment(n_shots, n_runs, theta):\n",
    "    \"\"\"\n",
    "    JUST FOR 2 QUBIT, OTHERWISE CHANGE n AND OTHER\n",
    "    \"\"\"\n",
    "    n = 2\n",
    "    M = [['X', 'Z'], ['X', 'Z']]\n",
    "    H_circ = []\n",
    "    partial_result = {(0, 1): 0, (0, 0): 0, (1, 1): 0, (1, 0): 0}\n",
    "    raws = []\n",
    "    \n",
    "    for i in range(n_runs):\n",
    "        result, counts, xy_list = execute_certificate(M, n_shots, theta)\n",
    "        updated_result = update_counts(partial_result, result)\n",
    "        N, P, I = Fill_Statistics(counts, xy_list)\n",
    "        raws.append(list(itertools.chain(*counts)))\n",
    "        \n",
    "        if I > 2:\n",
    "            H_bound = 1. # To compute or to look in previous sections\n",
    "            len_seed = n_shots*n - n*int(H_bound) + 1\n",
    "\n",
    "            seeds = []\n",
    "            for row in range(n_runs):\n",
    "                partial_seed = []\n",
    "                for column in range(len_seed):\n",
    "                    partial_seed.append(random.getrandbits(1))\n",
    "                seeds.append(partial_seed)\n",
    "            \n",
    "            partial_result = updated_result\n",
    "            \n",
    "    H_from_circ = H_min_new(updated_result)[0]\n",
    "    outs = extractor(seeds, raws)\n",
    "    H = H_from_extractor(outs)\n",
    "    return(outs, H, H_from_circ)"
   ]
  },
  {
   "cell_type": "code",
   "execution_count": 365,
   "id": "0ffdbbd1",
   "metadata": {},
   "outputs": [
    {
     "name": "stdout",
     "output_type": "stream",
     "text": [
      "[(0, 1), (0, 0), (0, 1), (1, 0), (1, 0), (0, 1), (1, 1), (1, 0), (0, 1), (1, 1)]\n",
      "1.3219280948873622\n",
      "0.9068905956085186\n"
     ]
    }
   ],
   "source": [
    "# Cell to try for one experiment\n",
    "\n",
    "n_shots = 5\n",
    "n_runs = 10\n",
    "theta = 0.25\n",
    "\n",
    "outs, H, H_from_circ = certificate_experiment(n_shots, n_runs, theta)\n",
    "print(outs)\n",
    "print(H)\n",
    "print(H_from_circ)"
   ]
  },
  {
   "cell_type": "code",
   "execution_count": 366,
   "id": "7501be5b",
   "metadata": {},
   "outputs": [],
   "source": [
    "n_experiments = 10\n",
    "n_shots = 5\n",
    "n_runs = 50\n",
    "theta = 0.25\n",
    "\n",
    "res_outs = []\n",
    "res_H = []\n",
    "res_H_from_circ = []\n",
    "for exp in range(n_experiments): \n",
    "    outs, H, H_from_circ = certificate_experiment(n_shots, n_runs, theta)\n",
    "    res_outs.append(outs)\n",
    "    res_H.append(H)\n",
    "    res_H_from_circ.append(H_from_circ)"
   ]
  },
  {
   "cell_type": "code",
   "execution_count": 370,
   "id": "94e0e7dd",
   "metadata": {
    "scrolled": true
   },
   "outputs": [
    {
     "data": {
      "image/png": "[encoded data removed]",
      "text/plain": [
       "<Figure size 750x550 with 1 Axes>"
      ]
     },
     "metadata": {},
     "output_type": "display_data"
    }
   ],
   "source": [
    "#Plot\n",
    "\n",
    "marker = [\"x\", \"o\", \"P\", \"^\"]\n",
    "s = [130, 100, 200, 200]\n",
    "\n",
    "lstyles = [\"dashed\",\n",
    "          \"dotted\",\n",
    "          \"dashdot\",\n",
    "          \"solid\",\n",
    "          ]\n",
    "\n",
    "lws = [1.7,\n",
    "      3.2,\n",
    "      2.2,\n",
    "      1.7,\n",
    "      ]\n",
    "\n",
    "# len(color) must be \\geq len(gy_list) \n",
    "color = [(float(0)/255, float(0)/255, float(255)/255), #blue\n",
    "        (float(213)/255, float(94)/255,float(0)/255), #orange\n",
    "        (float(255)/255, float(0)/255, float(0)/255), #red\n",
    "        (float(0)/255, float(0)/255, float(0)/255), #black\n",
    "        (float(0)/255, float(255)/255, float(0)/255), #green \n",
    "        ] \n",
    "\n",
    "SMALL_SIZE = 15\n",
    "MEDIUM_SIZE = 20\n",
    "BIGGER_SIZE = 25\n",
    "\n",
    "plt.rc('font', size=SMALL_SIZE, weight=\"normal\", family=\"sans-serif\")          # controls default text sizes\n",
    "plt.rc('axes', titlesize=BIGGER_SIZE)     # fontsize of the axes title\n",
    "plt.rc('axes', labelsize=BIGGER_SIZE)    # fontsize of the x and y labels\n",
    "plt.rc('xtick', labelsize=MEDIUM_SIZE)    # fontsize of the tick labels\n",
    "plt.rc('ytick', labelsize=MEDIUM_SIZE)    # fontsize of the tick labels\n",
    "plt.rc('legend', fontsize=SMALL_SIZE)    # legend fontsize\n",
    "plt.rc('figure', titlesize=BIGGER_SIZE)  # fontsize of the figure title\n",
    "plt.rcParams[\"figure.figsize\"] = [7.50, 5.50]\n",
    "plt.rcParams[\"figure.autolayout\"] = True\n",
    "plt.rcParams[\"figure.figsize\"] = [7.50, 5.50]\n",
    "plt.rcParams[\"figure.autolayout\"] = True\n",
    "\n",
    "\n",
    "    \n",
    "gylabel= \"$\\gamma$ = {gy:.1f}\"\n",
    "\n",
    "#plt.title(\"Excited states energy spectrum\")\n",
    "x = np.arange(n_experiments)\n",
    "\n",
    "y1 = res_H\n",
    "y2 = res_H_from_circ\n",
    "    \n",
    "plt.plot(x, y1, color=color[0], linestyle=\"solid\", linewidth = lws[2], alpha=0.7, label=r\"$H_{min}$ extracted\")\n",
    "plt.plot(x, y2, color=color[1], linestyle=\"solid\", linewidth = lws[1], alpha=0.7, label=r\"$H_{min}$ circuit\")\n",
    "#plt.axvline(crosspoints[i],color=color[0], linewidth = lws[0], linestyle=lstyles[0])\n",
    "\n",
    "\n",
    "#plt.scatter(B_VQD,E_1,color=color[0],edgecolor=\"white\",marker=marker[0],s=s[0], label='GS')\n",
    "\n",
    "plt.ylabel(r\"$H_{min}$\")\n",
    "plt.xlabel(r\"# experiment\")\n",
    "plt.ylim([0, 2])\n",
    "\n",
    "# Line of codes to avoid repeating labels in legend\n",
    "handles, labels = plt.gca().get_legend_handles_labels()\n",
    "by_label = dict(zip(labels, handles))\n",
    "plt.legend(by_label.values(), by_label.keys())\n",
    "\n",
    "#Arrows\n",
    "#plt.annotate(text=\"(I)\", xy=(0.2,-3), xytext=(0.05, -3.05), arrowprops={\"arrowstyle\":\"->\", \"color\":color[0], \"lw\":1.7})\n",
    "\n",
    "plt.show()"
   ]
  },
  {
   "cell_type": "markdown",
   "id": "4a81b7cc",
   "metadata": {},
   "source": [
    "$H_{min}$ is generally higher after the randomness extractor. Should in any case be less than 1? Think about It."
   ]
  }
 ],
 "metadata": {
  "kernelspec": {
   "display_name": "Python 3.11 (ICTP)",
   "language": "python",
   "name": "ictp"
  },
  "language_info": {
   "codemirror_mode": {
    "name": "ipython",
    "version": 3
   },
   "file_extension": ".py",
   "mimetype": "text/x-python",
   "name": "python",
   "nbconvert_exporter": "python",
   "pygments_lexer": "ipython3",
   "version": "3.11.2"
  }
 },
 "nbformat": 4,
 "nbformat_minor": 5
}
